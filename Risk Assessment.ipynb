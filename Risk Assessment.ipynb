{
 "cells": [
  {
   "cell_type": "markdown",
   "id": "ac251891",
   "metadata": {},
   "source": [
    "# Risk Assessment due to flood \n",
    "**Risk** is defined as hazard times damage(consequence). The **hazard** is the physical and statistical aspects of the flood, which is generally expressed in exceedance probability. The **damage** is the exposure of people or assets to a hazard along with its susceptibility to suffer from damage during flood event.\n",
    "Mathematically, \n",
    "$$Risk = hazard*consequence = hazard*exposure*vulnerability$$"
   ]
  },
  {
   "cell_type": "markdown",
   "id": "b7309e20",
   "metadata": {},
   "source": [
    "## Defining Hazard\n",
    "The hazard is the statistical ascept of flood. With the observed data of the peak flood or rainfall, we try to find the best probability distribution function that fits to our observation. In our case, the recorded rainfall were fitted with a) Normal Distribution, b) Log normal distribution, c) Weibull distribution, d) Gamma distribution and e)Type 1 Extreme Value Distribution (Gumbel). the observed rainfall data fitted best with log-normal distribution in our study, shown in figure below: \n",
    "![A](Markdown\\comparison_exceedance_log.png)"
   ]
  },
  {
   "cell_type": "markdown",
   "id": "45af4927",
   "metadata": {},
   "source": [
    "From the study, the log normal distribution with parameters, $\\mu =4.1245$ and $\\sigma =0.264$ was found best suited to our case. "
   ]
  },
  {
   "cell_type": "markdown",
   "id": "ceb8f321",
   "metadata": {},
   "source": [
    "## Damage Assessment \n",
    "This steps includes deriving the damage curve. For our case, damage was assumed to be depended upon the water depth due to rainfall event. Hence, with the observed values of inundation depth(cm) and damage caused by it (Euro), the relation between these variables were tried to model. Firstly, we check how much these parameters are correlated. We found correlation coefficient, $r=0.845$ between damage and depth. "
   ]
  },
  {
   "cell_type": "markdown",
   "id": "c2e4c636",
   "metadata": {},
   "source": [
    "Then, we try to fit the data into different models, namely a) Linear, b)log-linear, c)square root and d) power transform models. Our data fits best to the power transform model with parameters a and b equals to 3993 and 0.5076 respectively. \n",
    "![B](Damage_Comparison.png)"
   ]
  },
  {
   "cell_type": "markdown",
   "id": "a9ce0217",
   "metadata": {},
   "source": [
    "Hence, the damage curve in our case is represented by \\\n",
    "$Damage = 3993*Depth^{0.5076}$."
   ]
  },
  {
   "cell_type": "markdown",
   "id": "8c38eb7c",
   "metadata": {},
   "source": [
    "## Risk Quantification\n",
    "In this process, we want to derive the risk associated with each exceedance probability. That means, we try to generate the graph that relates the damage calculated in step 1.2 with the exceedance probability of the event. The overall step is shown in figure below:\n",
    "![C](Markdown\\Overall.jpg)"
   ]
  },
  {
   "cell_type": "markdown",
   "id": "c84eebf8",
   "metadata": {},
   "source": [
    "### Expected annual damage (EAD)\n",
    "EAD is not the expected damage that will occur but is the average of flood damages calculated over a number of events. The total damages for each event is then multiplied by the event probability to get the expected annual damage.\n",
    "\n",
    "The expected annual damage does not help to quantify the actual risk with high degree of certainty. However, they are good metrics to compare different flood mitigation measures. "
   ]
  },
  {
   "cell_type": "markdown",
   "id": "ae30fab2",
   "metadata": {},
   "source": [
    "**How to find the expected annual damage?**\\\n",
    "1) For different return period, we can calculate the corresponding rainfall intensity using log normal distribution (1.1) . \\\n",
    "2) The inundation depth occuring due to certain rainfall intensity is calculated assuming the following distribution:\\\n",
    "$\\mathrm{w}(cm) = \\begin{cases}\n",
    "    0.75*(i-30) & \\text{if } i > 30 mm/hr \\\\ % & is your \"\\tab\"-like command (it's a tab alignment character)\n",
    "    0 & \\text{else.}\n",
    "\\end{cases}$\\\n",
    "3) The corresponding damage for each inundation depth can hence be calculated using power equation(1.2).\\\n",
    "4) The damage vs the exceedance probability gives the risk curve.\\\n",
    "5) The EAD can be calculated from the area of risk curve. "
   ]
  },
  {
   "cell_type": "code",
   "execution_count": 1,
   "id": "7e8f9f1d",
   "metadata": {},
   "outputs": [],
   "source": [
    "import numpy as np\n",
    "import matplotlib.pyplot as plt\n",
    "from scipy import stats\n",
    "import pandas as pd"
   ]
  },
  {
   "cell_type": "markdown",
   "id": "fb756100",
   "metadata": {},
   "source": [
    "**Paramaters of log normal distribution and damage curve**"
   ]
  },
  {
   "cell_type": "code",
   "execution_count": 2,
   "id": "d321675e",
   "metadata": {},
   "outputs": [],
   "source": [
    "#Parameters of log normal distribution\n",
    "sigma = 0.264574848004627\n",
    "mu = 4.124545236936973\n",
    "# Damage Curve Parameters from Power function\n",
    "a = 3993\n",
    "b = 0.5076"
   ]
  },
  {
   "cell_type": "markdown",
   "id": "e53fd69c",
   "metadata": {},
   "source": [
    "**We are assessing EAD considering the damage caused by 2,10,50,100 and 300 years return period rainfall event.** \\\n",
    "The exceedance probability for certain return period is inverse of the return period and while cummulative distribution function or non-exceedance probability is the 1 minus exceedance probability. \\\n",
    "The rainfall intensity corresponding to the return period can be calculated from stats.lognorm of scipy module. But process is slight different than MATLAB due to its parametrization technique. Please read this (https://docs.scipy.org/doc/scipy/reference/generated/scipy.stats.lognorm.html)"
   ]
  },
  {
   "cell_type": "code",
   "execution_count": 3,
   "id": "4b43b26c",
   "metadata": {},
   "outputs": [
    {
     "name": "stdout",
     "output_type": "stream",
     "text": [
      "   return period  rainfall(mm/h)\n",
      "0              2       61.839680\n",
      "1             10       86.800428\n",
      "2             50      106.475567\n",
      "3            100      114.438593\n",
      "4            300      126.766971\n"
     ]
    }
   ],
   "source": [
    "#return period, exceedance and non exceedance probability\n",
    "return_period = np.array([2,10,50,100,300])\n",
    "exceedance_prob = 1/return_period\n",
    "non_exceedance_prob = 1 - exceedance_prob\n",
    "# Rainfall intensities corresponding to our return period\n",
    "rainfall_return=stats.lognorm(s=sigma, scale=np.exp(mu)).ppf(non_exceedance_prob)\n",
    "\n",
    "#Just for tabular output\n",
    "dataset = pd.DataFrame({'return period': return_period, 'rainfall(mm/h)': rainfall_return}, columns=['return period', 'rainfall(mm/h)'])\n",
    "print(dataset)"
   ]
  },
  {
   "cell_type": "markdown",
   "id": "4b511eba",
   "metadata": {},
   "source": [
    "**Step by Step Curve Plotting**\\\n",
    "Since, in our case only intensity greater than 30mm/h results in inundation, we consider only intensities greater than it. "
   ]
  },
  {
   "cell_type": "code",
   "execution_count": 4,
   "id": "67b5e4e4",
   "metadata": {},
   "outputs": [
    {
     "data": {
      "text/plain": [
       "Text(0.5, 1.0, 'Rainfall Intensity Distribution')"
      ]
     },
     "execution_count": 4,
     "metadata": {},
     "output_type": "execute_result"
    },
    {
     "data": {
      "image/png": "[encoded data removed]",
      "text/plain": [
       "<Figure size 720x576 with 1 Axes>"
      ]
     },
     "metadata": {
      "needs_background": "light"
     },
     "output_type": "display_data"
    }
   ],
   "source": [
    "# PLotting rainfall vs exceedance probability: log normal\n",
    "\n",
    "#Array Initialisation for intensities greater than 30 and less than 200. (voluntarily taken limit)\n",
    "i = np.arange(30, 201, 0.1)\n",
    "\n",
    "#Compute cdf of each rainfall intensity (log normal)\n",
    "p = stats.lognorm.cdf(i, s=sigma, scale=np.exp(mu))\n",
    "\n",
    "#Plotting intensity and corresponding cdf\n",
    "plt.figure(figsize=[10, 8])\n",
    "plt.plot(i, p)\n",
    "plt.xlabel('Rainfall Intensity', fontsize=15)\n",
    "plt.ylabel('Non exceedance probability', fontsize=15)\n",
    "plt.xticks(fontsize=15)\n",
    "plt.yticks(fontsize=15)\n",
    "plt.title('Rainfall Intensity Distribution', fontsize=15)"
   ]
  },
  {
   "cell_type": "code",
   "execution_count": 5,
   "id": "6eb73577",
   "metadata": {},
   "outputs": [
    {
     "data": {
      "text/plain": [
       "Text(0.5, 1.0, 'Rainfall Intensity Distribution')"
      ]
     },
     "execution_count": 5,
     "metadata": {},
     "output_type": "execute_result"
    },
    {
     "data": {
      "image/png": "[encoded data removed]",
      "text/plain": [
       "<Figure size 720x576 with 1 Axes>"
      ]
     },
     "metadata": {
      "needs_background": "light"
     },
     "output_type": "display_data"
    }
   ],
   "source": [
    "#Plotting intensity and exceedance probability\n",
    "plt.figure(figsize=[10, 8])\n",
    "plt.plot(i, 1 - p)\n",
    "plt.xlabel('Rainfall Intensity (mm/h)', fontsize=15)\n",
    "plt.ylabel('Exceedance probability', fontsize=15)\n",
    "plt.xticks(fontsize=15)\n",
    "plt.yticks(fontsize=15)\n",
    "plt.title('Rainfall Intensity Distribution', fontsize=15)"
   ]
  },
  {
   "cell_type": "code",
   "execution_count": 6,
   "id": "4d356644",
   "metadata": {},
   "outputs": [],
   "source": [
    "#calculating depth\n",
    "depth_exact = 0.75*(i-30)"
   ]
  },
  {
   "cell_type": "code",
   "execution_count": 7,
   "id": "f2e6d3d8",
   "metadata": {},
   "outputs": [],
   "source": [
    "#Damage\n",
    "damage_exact = a*np.power(depth_exact,b)"
   ]
  },
  {
   "cell_type": "code",
   "execution_count": 9,
   "id": "116c42ae",
   "metadata": {},
   "outputs": [
    {
     "data": {
      "text/plain": [
       "Text(0.5, 1.0, 'Damage Curve')"
      ]
     },
     "execution_count": 9,
     "metadata": {},
     "output_type": "execute_result"
    },
    {
     "data": {
      "image/png": "[encoded data removed]",
      "text/plain": [
       "<Figure size 720x576 with 1 Axes>"
      ]
     },
     "metadata": {
      "needs_background": "light"
     },
     "output_type": "display_data"
    }
   ],
   "source": [
    "plt.figure(figsize=[10, 8])\n",
    "plt.plot(depth_exact,damage_exact)\n",
    "plt.xlabel('Depth [cm]', fontsize=15)\n",
    "plt.ylabel('Damage [Euro]', fontsize=15)\n",
    "plt.xticks(fontsize=15)\n",
    "plt.yticks(fontsize=15)\n",
    "plt.title('Damage Curve', fontsize=15)"
   ]
  },
  {
   "cell_type": "code",
   "execution_count": 11,
   "id": "9ddb9137",
   "metadata": {},
   "outputs": [
    {
     "data": {
      "text/plain": [
       "Text(0.5, 1.0, 'Risk Curve')"
      ]
     },
     "execution_count": 11,
     "metadata": {},
     "output_type": "execute_result"
    },
    {
     "data": {
      "image/png": "[encoded data removed]",
      "text/plain": [
       "<Figure size 720x576 with 1 Axes>"
      ]
     },
     "metadata": {
      "needs_background": "light"
     },
     "output_type": "display_data"
    }
   ],
   "source": [
    "#Ploting Risk Curve\n",
    "plt.figure(figsize=[10, 8])\n",
    "plt.plot(1-p,damage_exact)\n",
    "plt.xlabel('Exceedance Probability', fontsize=15)\n",
    "plt.ylabel('Damage[Euro]', fontsize=15)\n",
    "plt.xticks(fontsize=15)\n",
    "plt.yticks(fontsize=15)\n",
    "plt.title('Risk Curve', fontsize=15)"
   ]
  },
  {
   "cell_type": "markdown",
   "id": "7fba441b",
   "metadata": {},
   "source": [
    "**Now we want to quantify EAD for default scenario i.e without any flood prevention measures.**"
   ]
  },
  {
   "cell_type": "code",
   "execution_count": 33,
   "id": "ec74295b",
   "metadata": {},
   "outputs": [
    {
     "name": "stdout",
     "output_type": "stream",
     "text": [
      "[23.87976034 42.60032068 57.3566754  63.32894464 72.57522834]\n",
      "[19988.82748701 26815.70888117 31185.77443988 32793.86561293\n",
      " 35142.73094801]\n"
     ]
    }
   ],
   "source": [
    "# Default scenario\n",
    "depth_default = 0.75*(rainfall_return-30)\n",
    "damage_default = a*np.power(depth_default,b)\n",
    "print(depth_default)\n",
    "print(damage_default)"
   ]
  },
  {
   "cell_type": "markdown",
   "id": "ae1bcd00",
   "metadata": {},
   "source": [
    "The EAD is calculated from the area of the risk curve. There are different method to calculate the area based on discretization.\\\n",
    "The first method explored here is **general trapezoidal method.**\n",
    "![e](Markdown\\general_trap.jpg)"
   ]
  },
  {
   "cell_type": "code",
   "execution_count": 13,
   "id": "9b1dc326",
   "metadata": {},
   "outputs": [],
   "source": [
    "#Function to calculate EAD by general trapezoidal rule\n",
    "def general_trap(exceedance_prob,damage):\n",
    "    avg = (damage[0:4]+damage[1:5])/2\n",
    "    EAD = np.sum(avg*np.diff(-exceedance_prob))\n",
    "    return(EAD)"
   ]
  },
  {
   "cell_type": "code",
   "execution_count": 14,
   "id": "3c3e1a00",
   "metadata": {},
   "outputs": [
    {
     "data": {
      "text/plain": [
       "12227.320128612588"
      ]
     },
     "execution_count": 14,
     "metadata": {},
     "output_type": "execute_result"
    }
   ],
   "source": [
    "#call function\n",
    "general_trap(exceedance_prob,damage_default)"
   ]
  },
  {
   "cell_type": "markdown",
   "id": "85cee421",
   "metadata": {},
   "source": [
    "**The second method for area approximation is Improved Trapezoidal Method**\n",
    "![f](Markdown\\improved_trap.jpg)"
   ]
  },
  {
   "cell_type": "code",
   "execution_count": 15,
   "id": "4959922c",
   "metadata": {},
   "outputs": [],
   "source": [
    "#Function to calculate EAD by improved trapezoidal rule\n",
    "def improved_trap(exceedance_prob,damage):\n",
    "    return(exceedance_prob[-1]*damage[-1])+general_trap(exceedance_prob,damage)"
   ]
  },
  {
   "cell_type": "code",
   "execution_count": 16,
   "id": "667d7510",
   "metadata": {},
   "outputs": [
    {
     "data": {
      "text/plain": [
       "12344.46256510594"
      ]
     },
     "execution_count": 16,
     "metadata": {},
     "output_type": "execute_result"
    }
   ],
   "source": [
    "#Function call\n",
    "improved_trap(exceedance_prob,damage_default)"
   ]
  },
  {
   "cell_type": "markdown",
   "id": "c0cc58b2",
   "metadata": {},
   "source": [
    "**The third method for calculating the area under risk curve is step method.**\n",
    "![g](Markdown\\step.jpg)"
   ]
  },
  {
   "cell_type": "code",
   "execution_count": 17,
   "id": "7f932b50",
   "metadata": {},
   "outputs": [],
   "source": [
    "#Function to calculate EAD by step method\n",
    "def step(exceedance_prob,damage):\n",
    "    return np.sum(np.diff(-exceedance_prob)*damage[0:4])"
   ]
  },
  {
   "cell_type": "code",
   "execution_count": 18,
   "id": "f4af8ca5",
   "metadata": {},
   "outputs": [
    {
     "data": {
      "text/plain": [
       "10671.27122044903"
      ]
     },
     "execution_count": 18,
     "metadata": {},
     "output_type": "execute_result"
    }
   ],
   "source": [
    "#Calling function step\n",
    "step(exceedance_prob,damage_default)"
   ]
  },
  {
   "cell_type": "code",
   "execution_count": 19,
   "id": "6a3e6757",
   "metadata": {},
   "outputs": [],
   "source": [
    "#Defining function:exact\n",
    "def exact(exceedance_prob,damage):\n",
    "    return np.sum(exceedance_prob*damage)"
   ]
  },
  {
   "cell_type": "code",
   "execution_count": 20,
   "id": "263b3728",
   "metadata": {},
   "outputs": [
    {
     "data": {
      "text/plain": [
       "5119838.790106598"
      ]
     },
     "execution_count": 20,
     "metadata": {},
     "output_type": "execute_result"
    }
   ],
   "source": [
    "#calling Function:exact\n",
    "exact(1-p,damage_exact)"
   ]
  },
  {
   "cell_type": "markdown",
   "id": "c7a0cd09",
   "metadata": {},
   "source": [
    "**We consider second scenario, flood protection upto 50 cm**\\\n",
    "Here, the depth of water in each scene is reduced by 50 cm and also there are no damage upto 50 cm inundation. That means risk is zero when inundation is less than 50 cm. "
   ]
  },
  {
   "cell_type": "code",
   "execution_count": 21,
   "id": "d0fae5b3",
   "metadata": {},
   "outputs": [],
   "source": [
    "# New flood depth for exact flow scenario2\n",
    "depth_new = np.zeros(len((depth_exact)))\n",
    "for i in range(len(depth_exact)):\n",
    "    if depth_exact[i] > 50:\n",
    "        depth_new[i] = depth_exact[i] - 50\n",
    "    else:\n",
    "        depth_new[i] = 0"
   ]
  },
  {
   "cell_type": "code",
   "execution_count": 22,
   "id": "e6d21cf9",
   "metadata": {},
   "outputs": [],
   "source": [
    "#Damage\n",
    "damage_new= a*np.power(depth_new,b)"
   ]
  },
  {
   "cell_type": "code",
   "execution_count": 23,
   "id": "16be6302",
   "metadata": {},
   "outputs": [],
   "source": [
    "# New flood depth for EAD approximation\n",
    "depth_scene2 = np.zeros(len((depth_default)))\n",
    "for i in range(len(depth_default)):\n",
    "    if depth_default[i] > 50:\n",
    "        depth_scene2[i] = depth_default[i] - 50\n",
    "    else:\n",
    "        depth_scene2[i] = 0"
   ]
  },
  {
   "cell_type": "code",
   "execution_count": 34,
   "id": "c2de4a11",
   "metadata": {},
   "outputs": [
    {
     "name": "stdout",
     "output_type": "stream",
     "text": [
      "[    0.             0.         10995.80139771 14867.76335666\n",
      " 19426.8769977 ]\n"
     ]
    }
   ],
   "source": [
    "#Damage_scene2\n",
    "damage_scene2 = a*np.power(depth_scene2,b)\n",
    "print(damage_scene2)"
   ]
  },
  {
   "cell_type": "code",
   "execution_count": 25,
   "id": "d953c44e",
   "metadata": {},
   "outputs": [
    {
     "name": "stdout",
     "output_type": "stream",
     "text": [
      "683.4653475279108\n",
      "748.2216041869085\n",
      "209.07643635479985\n"
     ]
    }
   ],
   "source": [
    "#EAD approximations by different metho for scenario 2\n",
    "print(general_trap(exceedance_prob,damage_scene2))\n",
    "print(improved_trap(exceedance_prob,damage_scene2))\n",
    "print(step(exceedance_prob,damage_scene2))"
   ]
  },
  {
   "cell_type": "code",
   "execution_count": 26,
   "id": "f635d764",
   "metadata": {},
   "outputs": [
    {
     "data": {
      "text/plain": [
       "56087.298900422844"
      ]
     },
     "execution_count": 26,
     "metadata": {},
     "output_type": "execute_result"
    }
   ],
   "source": [
    "#Exact EAD for scenario 2\n",
    "exact(1-p,damage_new)"
   ]
  },
  {
   "cell_type": "markdown",
   "id": "5a0973d7",
   "metadata": {},
   "source": [
    "**Lastly considering the scenario 3, in which damage is reduced by 15%**\n",
    "Here, the coefficient of the damage curve decreases by 15 percent.\n",
    "'a' is the coefficient of damage curve for other cases. For this scenario, it will be 0.85 times a. "
   ]
  },
  {
   "cell_type": "code",
   "execution_count": 27,
   "id": "ca785fdd",
   "metadata": {},
   "outputs": [],
   "source": [
    "a_new = 0.85*a"
   ]
  },
  {
   "cell_type": "code",
   "execution_count": 28,
   "id": "aafc2885",
   "metadata": {},
   "outputs": [],
   "source": [
    "#Damage_Scene3 for exact calculation\n",
    "damage_new_3 = a_new*np.power(depth_exact,b)"
   ]
  },
  {
   "cell_type": "code",
   "execution_count": 35,
   "id": "39e560e9",
   "metadata": {},
   "outputs": [
    {
     "name": "stdout",
     "output_type": "stream",
     "text": [
      "[16990.50336396 22793.352549   26507.9082739  27874.78577099\n",
      " 29871.3213058 ]\n"
     ]
    }
   ],
   "source": [
    "#Damage for certain return periods for EAD approximation\n",
    "damage_scene3 = a_new*np.power(depth_default,b)\n",
    "print(damage_scene3)"
   ]
  },
  {
   "cell_type": "code",
   "execution_count": 30,
   "id": "034a35ad",
   "metadata": {},
   "outputs": [
    {
     "name": "stdout",
     "output_type": "stream",
     "text": [
      "10393.222109320703\n",
      "10492.793180340052\n",
      "9070.580537381673\n"
     ]
    }
   ],
   "source": [
    "#EAD approximations by different metho for scenario 3\n",
    "print(general_trap(exceedance_prob,damage_scene3))\n",
    "print(improved_trap(exceedance_prob,damage_scene3))\n",
    "print(step(exceedance_prob,damage_scene3))"
   ]
  },
  {
   "cell_type": "code",
   "execution_count": 31,
   "id": "492f21c5",
   "metadata": {},
   "outputs": [
    {
     "data": {
      "text/plain": [
       "4351862.971590609"
      ]
     },
     "execution_count": 31,
     "metadata": {},
     "output_type": "execute_result"
    }
   ],
   "source": [
    "#Exact EAD for scenario 3\n",
    "exact(1-p,damage_new_3)"
   ]
  },
  {
   "cell_type": "markdown",
   "id": "c83a47ca",
   "metadata": {},
   "source": [
    "***This code is prepared with the aid of material from Dr. Karl Broich, TUM.***"
   ]
  }
 ],
 "metadata": {
  "hide_input": false,
  "kernelspec": {
   "display_name": "Python 3",
   "language": "python",
   "name": "python3"
  },
  "language_info": {
   "codemirror_mode": {
    "name": "ipython",
    "version": 3
   },
   "file_extension": ".py",
   "mimetype": "text/x-python",
   "name": "python",
   "nbconvert_exporter": "python",
   "pygments_lexer": "ipython3",
   "version": "3.8.8"
  },
  "toc": {
   "base_numbering": 1,
   "nav_menu": {},
   "number_sections": true,
   "sideBar": true,
   "skip_h1_title": false,
   "title_cell": "Table of Contents",
   "title_sidebar": "Contents",
   "toc_cell": false,
   "toc_position": {},
   "toc_section_display": true,
   "toc_window_display": false
  }
 },
 "nbformat": 4,
 "nbformat_minor": 5
}
